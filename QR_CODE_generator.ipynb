{
  "nbformat": 4,
  "nbformat_minor": 0,
  "metadata": {
    "colab": {
      "provenance": [],
      "authorship_tag": "ABX9TyMW9n61O2IYLaJOkS5PB0mS",
      "include_colab_link": true
    },
    "kernelspec": {
      "name": "python3",
      "display_name": "Python 3"
    },
    "language_info": {
      "name": "python"
    }
  },
  "cells": [
    {
      "cell_type": "markdown",
      "metadata": {
        "id": "view-in-github",
        "colab_type": "text"
      },
      "source": [
        "<a href=\"https://colab.research.google.com/github/Preksha-Dadoo/QR_code_generator/blob/main/QR_CODE_generator.ipynb\" target=\"_parent\"><img src=\"https://colab.research.google.com/assets/colab-badge.svg\" alt=\"Open In Colab\"/></a>"
      ]
    },
    {
      "cell_type": "code",
      "source": [
        "!pip install qrcode[pil]"
      ],
      "metadata": {
        "colab": {
          "base_uri": "https://localhost:8080/"
        },
        "id": "6LzMUJ3KzPz2",
        "outputId": "79e40c47-a5d5-474b-9c11-afcca2441c36"
      },
      "execution_count": 9,
      "outputs": [
        {
          "output_type": "stream",
          "name": "stdout",
          "text": [
            "Collecting qrcode[pil]\n",
            "  Downloading qrcode-8.0-py3-none-any.whl.metadata (17 kB)\n",
            "Requirement already satisfied: pillow>=9.1.0 in /usr/local/lib/python3.11/dist-packages (from qrcode[pil]) (11.1.0)\n",
            "Downloading qrcode-8.0-py3-none-any.whl (45 kB)\n",
            "\u001b[?25l   \u001b[90m━━━━━━━━━━━━━━━━━━━━━━━━━━━━━━━━━━━━━━━━\u001b[0m \u001b[32m0.0/45.7 kB\u001b[0m \u001b[31m?\u001b[0m eta \u001b[36m-:--:--\u001b[0m\r\u001b[2K   \u001b[90m━━━━━━━━━━━━━━━━━━━━━━━━━━━━━━━━━━━━━━━━\u001b[0m \u001b[32m45.7/45.7 kB\u001b[0m \u001b[31m1.6 MB/s\u001b[0m eta \u001b[36m0:00:00\u001b[0m\n",
            "\u001b[?25hInstalling collected packages: qrcode\n",
            "Successfully installed qrcode-8.0\n"
          ]
        }
      ]
    },
    {
      "cell_type": "code",
      "source": [
        "import qrcode\n",
        "\n",
        "def generate_qr():\n",
        "    # Take user input for the link\n",
        "    link = input(\"Enter the link to generate QR code: \")\n",
        "\n",
        "    # Generate QR code\n",
        "    qr = qrcode.QRCode(\n",
        "        version=1,\n",
        "        error_correction=qrcode.constants.ERROR_CORRECT_L,\n",
        "        box_size=10,\n",
        "        border=4,\n",
        "    )\n",
        "    qr.add_data(link)\n",
        "    qr.make(fit=True)\n",
        "\n",
        "    # Create and save the QR code image\n",
        "    qr_image = qr.make_image(fill=\"black\", back_color=\"white\")\n",
        "    qr_image.show()  # Opens the image\n",
        "    qr_image.save(\"qrcode.png\")\n",
        "    print(\"QR code saved as 'qrcode.png'\")\n",
        "\n",
        "if __name__ == \"__main__\":\n",
        "    generate_qr()\n"
      ],
      "metadata": {
        "id": "ZD3X2h0X0C3_",
        "colab": {
          "base_uri": "https://localhost:8080/"
        },
        "outputId": "dee21bbb-f9ca-4157-f4a9-0af2d086a64d"
      },
      "execution_count": 10,
      "outputs": [
        {
          "output_type": "stream",
          "name": "stdout",
          "text": [
            "Enter the link to generate QR code: https://www.magicbricks.com/propertyDetails/3-BHK-800-Sq-ft-Builder-Floor-Apartment-FOR-Sale-Patholi-in-Agra&id=4d423634353138313835\n",
            "QR code saved as 'qrcode.png'\n"
          ]
        }
      ]
    }
  ]
}